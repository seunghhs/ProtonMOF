{
 "cells": [
  {
   "cell_type": "markdown",
   "id": "8a216902-ea28-4695-b50e-15ea5014b551",
   "metadata": {},
   "source": [
    "### Prepare data"
   ]
  },
  {
   "cell_type": "code",
   "execution_count": null,
   "id": "e38fb6b5-4b30-44e3-a2bf-a555e0d89c5e",
   "metadata": {},
   "outputs": [],
   "source": [
    "import os\n",
    "import numpy as np\n",
    "import json\n",
    "from glob import glob"
   ]
  },
  {
   "cell_type": "code",
   "execution_count": null,
   "id": "bca49873-2135-4e17-86f7-7c78ad0d5882",
   "metadata": {},
   "outputs": [],
   "source": [
    "from moftransformer.examples import example_path\n",
    "from moftransformer.utils import prepare_data\n",
    "\n",
    "# Get example path\n",
    "root_cifs = example_path['root_cif']\n",
    "root_dataset = example_path['root_dataset']\n",
    "downstream = example_path['downstream']\n",
    "\n",
    "train_fraction = 0  \n",
    "test_fraction = 1   "
   ]
  },
  {
   "cell_type": "code",
   "execution_count": null,
   "id": "887588c6-ec12-465d-be83-669bb237b818",
   "metadata": {
    "scrolled": true
   },
   "outputs": [],
   "source": [
    "prepare_data('../database/structures/cif/','../database/features/dataset', downstream=downstream, \n",
    "             train_fraction=train_fraction, test_fraction=test_fraction)\n"
   ]
  },
  {
   "cell_type": "code",
   "execution_count": null,
   "id": "0474c1ca-c186-4e2d-b926-8b1b47434733",
   "metadata": {},
   "outputs": [],
   "source": []
  },
  {
   "cell_type": "code",
   "execution_count": null,
   "id": "8a0d2bfd-bde1-4564-bd5f-7a15ed6fbd97",
   "metadata": {},
   "outputs": [],
   "source": [
    "cif_tmp_json = {cif[:-5]: 1 for cif in os.listdir('dataset/total/') if cif.endswith('grid')}\n",
    "with open('../database/features/dataset/test.json', 'w') as f:\n",
    "    json.dump(cif_tmp_json, f)"
   ]
  },
  {
   "cell_type": "markdown",
   "id": "c664566e-7041-4924-b87a-b8738bdd9c3c",
   "metadata": {},
   "source": [
    "### MOFTransformer"
   ]
  },
  {
   "cell_type": "code",
   "execution_count": null,
   "id": "bed1ec7a-a1a8-40d9-8782-7162b8f0f29d",
   "metadata": {},
   "outputs": [],
   "source": [
    "import os\n",
    "import torch\n",
    "\n",
    "os.environ['CUDA_VISIBLE_DEVICES']='1'\n",
    "\n",
    "print(torch.cuda.is_available())\n",
    "device = torch.device('cuda:0') if torch.cuda.is_available() else torch.device('cpu')\n",
    "import os\n",
    "os.environ[\"TOKENIZERS_PARALLELISM\"] = \"false\""
   ]
  },
  {
   "cell_type": "code",
   "execution_count": null,
   "id": "d68de780-56f3-4726-a783-202770e4109b",
   "metadata": {},
   "outputs": [],
   "source": [
    "import torch\n",
    "import torch.nn as nn\n",
    "import functools\n",
    "from typing import Optional\n",
    "\n",
    "from torch.utils.data import DataLoader\n",
    "\n",
    "from pytorch_lightning import LightningDataModule\n",
    "from moftransformer.datamodules.dataset import Dataset\n",
    "from tqdm import tqdm"
   ]
  },
  {
   "cell_type": "code",
   "execution_count": null,
   "id": "f03fe900-3606-4f61-8d4b-2e4fc8e57e36",
   "metadata": {},
   "outputs": [],
   "source": [
    "import sys\n",
    "import os\n",
    "import copy\n",
    "import warnings\n",
    "from pathlib import Path\n",
    "import shutil\n",
    "\n",
    "import pytorch_lightning as pl\n",
    "\n",
    "from moftransformer.config import ex\n",
    "from moftransformer.config import config as _config\n",
    "from moftransformer.datamodules.datamodule import Datamodule\n",
    "from moftransformer.modules.module import Module\n",
    "from moftransformer.utils.validation import (\n",
    "    get_valid_config,\n",
    "    get_num_devices,\n",
    "    ConfigurationError,\n",
    ")\n",
    "\n",
    "warnings.filterwarnings(\n",
    "    \"ignore\", \".*Trying to infer the `batch_size` from an ambiguous collection.*\"\n",
    ")\n",
    "\n",
    "\n",
    "_IS_INTERACTIVE = hasattr(sys, \"ps1\")"
   ]
  },
  {
   "cell_type": "code",
   "execution_count": null,
   "id": "422a5da6-2c65-473a-b95b-f587d767ab9b",
   "metadata": {},
   "outputs": [],
   "source": []
  },
  {
   "cell_type": "code",
   "execution_count": null,
   "id": "f7dbe2b8-0837-465e-a76b-c9fbe348f185",
   "metadata": {},
   "outputs": [],
   "source": []
  },
  {
   "cell_type": "code",
   "execution_count": null,
   "id": "7afd6312-74c3-448f-bd44-dacd8d70281d",
   "metadata": {},
   "outputs": [],
   "source": [
    "from moftransformer.config import config as _config\n",
    "downstream=None\n",
    "log_dir=\"logs/\"\n",
    "test_only=True\n",
    "\n",
    "config = copy.deepcopy(_config())\n",
    "\n",
    "config[\"root_dataset\"] ='../database/features/dataset/'\n",
    "config[\"downstream\"] = ''\n",
    "config[\"log_dir\"] = log_dir\n",
    "config[\"test_only\"] = test_only\n",
    "config['load_path']='{moftransformer_path}/moftransformer.ckpt'\n",
    "_config = config\n",
    "_config = copy.deepcopy(_config)\n",
    "pl.seed_everything(_config[\"seed\"])\n",
    "\n",
    "_config = get_valid_config(_config)\n",
    "\n",
    "dm = Datamodule(_config)\n",
    "model = Module(_config)\n",
    "exp_name = f\"{_config['exp_name']}\"\n",
    "dm.setup(stage='test')\n",
    "dataloader = dm.test_dataloader()"
   ]
  },
  {
   "cell_type": "code",
   "execution_count": null,
   "id": "8d7ef7aa-5a83-47a5-a708-3c1af6840f83",
   "metadata": {},
   "outputs": [],
   "source": [
    "model.eval()\n",
    "all_features= []\n",
    "cif_ids = []\n",
    "with torch.no_grad():\n",
    "    for i, batch in enumerate(tqdm(dataloader)):\n",
    "        output = model(batch)\n",
    "        features = output['cls_feats']\n",
    "        all_features.append(features.detach().numpy())\n",
    "        cif_ids += (batch['cif_id'])\n",
    "        break\n",
    "    all_features = np.concatenate(all_features)"
   ]
  },
  {
   "cell_type": "code",
   "execution_count": null,
   "id": "f8f214e6-20be-4902-861e-4bec2ffbf64c",
   "metadata": {},
   "outputs": [],
   "source": []
  },
  {
   "cell_type": "code",
   "execution_count": null,
   "id": "ac2c6325-413f-4299-aa9e-2dbfd77214ad",
   "metadata": {},
   "outputs": [],
   "source": [
    "mof_desc_dict={ids.split('_')[0] : feat for ids, feat in zip(cif_ids, all_features)}"
   ]
  },
  {
   "cell_type": "code",
   "execution_count": null,
   "id": "c945dc30-18f6-416b-8770-4bac1bca615f",
   "metadata": {},
   "outputs": [],
   "source": [
    "mof_desc_dict = {key: value.tolist() for key, value in mof_desc_dict.items()}"
   ]
  },
  {
   "cell_type": "markdown",
   "id": "8df02e23-d690-4e99-a506-fe2a45151ab2",
   "metadata": {},
   "source": [
    "### Save MOF Features"
   ]
  },
  {
   "cell_type": "code",
   "execution_count": null,
   "id": "89dd789f-8f96-435d-9905-e4a53be00f42",
   "metadata": {},
   "outputs": [],
   "source": [
    "with open('../database/features/moftransformer.json', 'w') as f:\n",
    "    json.dump(mof_desc_dict,f)"
   ]
  },
  {
   "cell_type": "code",
   "execution_count": null,
   "id": "3ad5aa5d-e385-4d35-95b7-6751283a5d9f",
   "metadata": {},
   "outputs": [],
   "source": []
  },
  {
   "cell_type": "code",
   "execution_count": null,
   "id": "571e059e-d1c2-48a7-8758-0c78c7af17bc",
   "metadata": {},
   "outputs": [],
   "source": []
  }
 ],
 "metadata": {
  "kernelspec": {
   "display_name": "Python 3 (ipykernel)",
   "language": "python",
   "name": "python3"
  },
  "language_info": {
   "codemirror_mode": {
    "name": "ipython",
    "version": 3
   },
   "file_extension": ".py",
   "mimetype": "text/x-python",
   "name": "python",
   "nbconvert_exporter": "python",
   "pygments_lexer": "ipython3",
   "version": "3.8.0"
  }
 },
 "nbformat": 4,
 "nbformat_minor": 5
}
