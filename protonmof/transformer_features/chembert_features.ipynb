{
 "cells": [
  {
   "cell_type": "code",
   "execution_count": 1,
   "id": "f985b80a-6091-476e-bacf-edaf6dcb3c6d",
   "metadata": {},
   "outputs": [],
   "source": [
    "%load_ext autoreload\n",
    "%autoreload 2"
   ]
  },
  {
   "cell_type": "code",
   "execution_count": 2,
   "id": "dae85b4a-cda8-4371-a37e-878b9bbade6e",
   "metadata": {},
   "outputs": [],
   "source": [
    "import os\n",
    "import numpy as np\n",
    "from glob import glob\n",
    "from rdkit import Chem\n",
    "import torch"
   ]
  },
  {
   "cell_type": "code",
   "execution_count": 3,
   "id": "1734fe18-cad5-4d70-8dee-f2ce970b488d",
   "metadata": {},
   "outputs": [],
   "source": [
    "files = sorted(glob('../database/structures/guest/*'))\n",
    "smiles_list = []\n",
    "name_list = []\n",
    "smiles_dict = {}\n",
    "for f in files:\n",
    "    name = f.split('/')[-1][:-4]\n",
    "    try:\n",
    "        mol = Chem.rdmolfiles.MolFromPDBFile(f)\n",
    "        smi = Chem.MolToSmiles(mol)\n",
    "        smiles_list.append(smi)\n",
    "        name_list.append(name)\n",
    "        smiles_dict[name] = smi\n",
    "    except:\n",
    "        print(name)\n",
    "smiles_list.append('')\n",
    "name_list.append('nan')"
   ]
  },
  {
   "cell_type": "code",
   "execution_count": 6,
   "id": "3960f00e-50ae-4f09-ab14-c3703cce848b",
   "metadata": {},
   "outputs": [],
   "source": [
    "import json\n",
    "with open(\"../database/features/guest_smiles.json\", \"w\") as json_file:\n",
    "    json.dump(smiles_dict, json_file)\n"
   ]
  },
  {
   "cell_type": "markdown",
   "id": "d3823340-9c5f-489c-8385-e9baa67369e7",
   "metadata": {},
   "source": [
    "### ChemBERT"
   ]
  },
  {
   "cell_type": "code",
   "execution_count": 4,
   "id": "86e4a275-c308-4917-961e-6e4115d03967",
   "metadata": {},
   "outputs": [
    {
     "name": "stderr",
     "output_type": "stream",
     "text": [
      "2024-06-05 16:47:22.423327: I tensorflow/core/util/port.cc:110] oneDNN custom operations are on. You may see slightly different numerical results due to floating-point round-off errors from different computation orders. To turn them off, set the environment variable `TF_ENABLE_ONEDNN_OPTS=0`.\n",
      "2024-06-05 16:47:22.442611: I tensorflow/core/platform/cpu_feature_guard.cc:182] This TensorFlow binary is optimized to use available CPU instructions in performance-critical operations.\n",
      "To enable the following instructions: AVX2 AVX512F AVX512_VNNI AVX512_BF16 FMA, in other operations, rebuild TensorFlow with the appropriate compiler flags.\n",
      "2024-06-05 16:47:22.832822: W tensorflow/compiler/tf2tensorrt/utils/py_utils.cc:38] TF-TRT Warning: Could not find TensorRT\n",
      "Some weights of RobertaForSequenceClassification were not initialized from the model checkpoint at seyonec/PubChem10M_SMILES_BPE_396_250 and are newly initialized: ['classifier.dense.bias', 'classifier.dense.weight', 'classifier.out_proj.bias', 'classifier.out_proj.weight']\n",
      "You should probably TRAIN this model on a down-stream task to be able to use it for predictions and inference.\n"
     ]
    }
   ],
   "source": [
    "from simpletransformers.classification import ClassificationModel, ClassificationArgs\n",
    "\n",
    "chembert = ClassificationModel('roberta', 'seyonec/PubChem10M_SMILES_BPE_396_250', \n",
    "                            num_labels=1,\n",
    "                            args={'evaluate_each_epoch': True, \n",
    "                                  'evaluate_during_training_verbose': True,\n",
    "                                  'no_save': False, 'num_train_epochs': 10, \n",
    "                                  'regression' : True,\n",
    "                                  'auto_weights': True}) # You can set class weights by using the optional weight argument\n"
   ]
  },
  {
   "cell_type": "code",
   "execution_count": 5,
   "id": "6b6bc245-5292-466f-8ab1-eb9e765c3e9c",
   "metadata": {},
   "outputs": [],
   "source": [
    "model = chembert.model"
   ]
  },
  {
   "cell_type": "code",
   "execution_count": 6,
   "id": "7480b942-9591-46bd-ad4b-20844a74b542",
   "metadata": {},
   "outputs": [
    {
     "name": "stderr",
     "output_type": "stream",
     "text": [
      "/tmp/ipykernel_2131977/2356265998.py:6: UserWarning: To copy construct from a tensor, it is recommended to use sourceTensor.clone().detach() or sourceTensor.clone().detach().requires_grad_(True), rather than torch.tensor(sourceTensor).\n",
      "  tokens[k] = torch.tensor(v, dtype=torch.long,).to(model.device)\n"
     ]
    }
   ],
   "source": [
    "tokens = chembert.tokenizer(smiles_list,add_special_tokens=True, truncation=True, \n",
    "                                 max_length=256, padding=\"max_length\", \n",
    "                              return_tensors='pt',\n",
    "                              return_offsets_mapping=False)\n",
    "for k, v in tokens.items():\n",
    "    tokens[k] = torch.tensor(v, dtype=torch.long,).to(model.device)  "
   ]
  },
  {
   "cell_type": "code",
   "execution_count": 7,
   "id": "cd044864-03d2-4e56-a360-22d9cdfe1dec",
   "metadata": {},
   "outputs": [],
   "source": [
    "model.eval()\n",
    "with torch.no_grad():\n",
    "    outputs=model.roberta(tokens['input_ids'], tokens['attention_mask'])[0][:,0,:]\n",
    "    outputs = outputs.detach().numpy()"
   ]
  },
  {
   "cell_type": "code",
   "execution_count": 8,
   "id": "152690f5-c4ad-43fa-bf59-d52e5dc57005",
   "metadata": {},
   "outputs": [],
   "source": [
    "smiles_feat = {name: feat.tolist() for name, feat in zip(name_list, outputs)}"
   ]
  },
  {
   "cell_type": "code",
   "execution_count": null,
   "id": "8b600fbe-4774-4f7d-850d-5d4482c4c62e",
   "metadata": {},
   "outputs": [],
   "source": []
  },
  {
   "cell_type": "code",
   "execution_count": 13,
   "id": "eb938ce3-74b4-4291-aa76-1b6fca5eb87b",
   "metadata": {},
   "outputs": [],
   "source": [
    "import json\n",
    "with open('../database/features/chembert_guest.json', 'w') as json_file:\n",
    "    json.dump(smiles_feat, json_file)"
   ]
  },
  {
   "cell_type": "code",
   "execution_count": null,
   "id": "7d2a2de4-257d-4daf-939b-92802c1fe299",
   "metadata": {},
   "outputs": [],
   "source": []
  }
 ],
 "metadata": {
  "kernelspec": {
   "display_name": "Python 3 (ipykernel)",
   "language": "python",
   "name": "python3"
  },
  "language_info": {
   "codemirror_mode": {
    "name": "ipython",
    "version": 3
   },
   "file_extension": ".py",
   "mimetype": "text/x-python",
   "name": "python",
   "nbconvert_exporter": "python",
   "pygments_lexer": "ipython3",
   "version": "3.8.0"
  }
 },
 "nbformat": 4,
 "nbformat_minor": 5
}
